{
  "nbformat": 4,
  "nbformat_minor": 0,
  "metadata": {
    "colab": {
      "name": "Sharpe_Calculator.ipynb",
      "provenance": []
    },
    "kernelspec": {
      "name": "python3",
      "display_name": "Python 3"
    },
    "language_info": {
      "name": "python"
    }
  },
  "cells": [
    {
      "cell_type": "markdown",
      "metadata": {
        "id": "zuZ7niO42lr0"
      },
      "source": [
        "#1.0 Import Libraries"
      ]
    },
    {
      "cell_type": "code",
      "metadata": {
        "colab": {
          "base_uri": "https://localhost:8080/"
        },
        "id": "PKLbsNcVM8W0",
        "outputId": "f927b19c-c50f-44e9-f796-461c51e624f0"
      },
      "source": [
        "import pandas as pd\n",
        "!pip install yfinance \n",
        "import yfinance as yf\n",
        "!pip install yfinance --upgrade --no-cache-dir\n",
        "yf.pdr_override()\n",
        "import numpy as np\n",
        "import statistics\n",
        "import math\n",
        "import seaborn as sns"
      ],
      "execution_count": 179,
      "outputs": [
        {
          "output_type": "stream",
          "text": [
            "Requirement already satisfied: yfinance in /usr/local/lib/python3.7/dist-packages (0.1.60)\n",
            "Requirement already satisfied: lxml>=4.5.1 in /usr/local/lib/python3.7/dist-packages (from yfinance) (4.6.3)\n",
            "Requirement already satisfied: numpy>=1.15 in /usr/local/lib/python3.7/dist-packages (from yfinance) (1.19.5)\n",
            "Requirement already satisfied: multitasking>=0.0.7 in /usr/local/lib/python3.7/dist-packages (from yfinance) (0.0.9)\n",
            "Requirement already satisfied: pandas>=0.24 in /usr/local/lib/python3.7/dist-packages (from yfinance) (1.1.5)\n",
            "Requirement already satisfied: requests>=2.20 in /usr/local/lib/python3.7/dist-packages (from yfinance) (2.23.0)\n",
            "Requirement already satisfied: pytz>=2017.2 in /usr/local/lib/python3.7/dist-packages (from pandas>=0.24->yfinance) (2018.9)\n",
            "Requirement already satisfied: python-dateutil>=2.7.3 in /usr/local/lib/python3.7/dist-packages (from pandas>=0.24->yfinance) (2.8.1)\n",
            "Requirement already satisfied: certifi>=2017.4.17 in /usr/local/lib/python3.7/dist-packages (from requests>=2.20->yfinance) (2021.5.30)\n",
            "Requirement already satisfied: urllib3!=1.25.0,!=1.25.1,<1.26,>=1.21.1 in /usr/local/lib/python3.7/dist-packages (from requests>=2.20->yfinance) (1.24.3)\n",
            "Requirement already satisfied: chardet<4,>=3.0.2 in /usr/local/lib/python3.7/dist-packages (from requests>=2.20->yfinance) (3.0.4)\n",
            "Requirement already satisfied: idna<3,>=2.5 in /usr/local/lib/python3.7/dist-packages (from requests>=2.20->yfinance) (2.10)\n",
            "Requirement already satisfied: six>=1.5 in /usr/local/lib/python3.7/dist-packages (from python-dateutil>=2.7.3->pandas>=0.24->yfinance) (1.15.0)\n",
            "Requirement already up-to-date: yfinance in /usr/local/lib/python3.7/dist-packages (0.1.60)\n",
            "Requirement already satisfied, skipping upgrade: lxml>=4.5.1 in /usr/local/lib/python3.7/dist-packages (from yfinance) (4.6.3)\n",
            "Requirement already satisfied, skipping upgrade: pandas>=0.24 in /usr/local/lib/python3.7/dist-packages (from yfinance) (1.1.5)\n",
            "Requirement already satisfied, skipping upgrade: requests>=2.20 in /usr/local/lib/python3.7/dist-packages (from yfinance) (2.23.0)\n",
            "Requirement already satisfied, skipping upgrade: multitasking>=0.0.7 in /usr/local/lib/python3.7/dist-packages (from yfinance) (0.0.9)\n",
            "Requirement already satisfied, skipping upgrade: numpy>=1.15 in /usr/local/lib/python3.7/dist-packages (from yfinance) (1.19.5)\n",
            "Requirement already satisfied, skipping upgrade: pytz>=2017.2 in /usr/local/lib/python3.7/dist-packages (from pandas>=0.24->yfinance) (2018.9)\n",
            "Requirement already satisfied, skipping upgrade: python-dateutil>=2.7.3 in /usr/local/lib/python3.7/dist-packages (from pandas>=0.24->yfinance) (2.8.1)\n",
            "Requirement already satisfied, skipping upgrade: chardet<4,>=3.0.2 in /usr/local/lib/python3.7/dist-packages (from requests>=2.20->yfinance) (3.0.4)\n",
            "Requirement already satisfied, skipping upgrade: urllib3!=1.25.0,!=1.25.1,<1.26,>=1.21.1 in /usr/local/lib/python3.7/dist-packages (from requests>=2.20->yfinance) (1.24.3)\n",
            "Requirement already satisfied, skipping upgrade: idna<3,>=2.5 in /usr/local/lib/python3.7/dist-packages (from requests>=2.20->yfinance) (2.10)\n",
            "Requirement already satisfied, skipping upgrade: certifi>=2017.4.17 in /usr/local/lib/python3.7/dist-packages (from requests>=2.20->yfinance) (2021.5.30)\n",
            "Requirement already satisfied, skipping upgrade: six>=1.5 in /usr/local/lib/python3.7/dist-packages (from python-dateutil>=2.7.3->pandas>=0.24->yfinance) (1.15.0)\n"
          ],
          "name": "stdout"
        }
      ]
    },
    {
      "cell_type": "markdown",
      "metadata": {
        "id": "kyuk3L4i2q9X"
      },
      "source": [
        "#2.0 Import Portfolio"
      ]
    },
    {
      "cell_type": "code",
      "metadata": {
        "id": "yp_s_FddoNUP"
      },
      "source": [
        "stocks=[\"AAPL\",\"MSFT\",\"TSLA\",\"GOOG\",\"PETR4.SA\",\"VALE3.SA\",\"ABEV3.SA\"]# just example of stocks\n",
        "weights=[0.4,0.1,0.1,0.1,0.1,0.1,0.1]#just example of weights, you can optimize these if you want\n",
        "if len(weights)!= len(stocks):\n",
        "  for a in range(len(stocks)):\n",
        "    weights.append(1/len(stocks))\n",
        "weights=np.array(weights)\n"
      ],
      "execution_count": 180,
      "outputs": []
    },
    {
      "cell_type": "code",
      "metadata": {
        "colab": {
          "base_uri": "https://localhost:8080/",
          "height": 393
        },
        "id": "WOvCZ5VOofVL",
        "outputId": "f7c15d92-b579-4166-c643-eff90996453a"
      },
      "source": [
        "start_date=\"2017-12-29\"# you can set the data, but 3 years is very common\n",
        "df=yf.download(stocks,start=start_date,progress=False)[\"Adj Close\"]\n",
        "df.tail(6)#Viewing The Last Data"
      ],
      "execution_count": 181,
      "outputs": [
        {
          "output_type": "execute_result",
          "data": {
            "text/html": [
              "<div>\n",
              "<style scoped>\n",
              "    .dataframe tbody tr th:only-of-type {\n",
              "        vertical-align: middle;\n",
              "    }\n",
              "\n",
              "    .dataframe tbody tr th {\n",
              "        vertical-align: top;\n",
              "    }\n",
              "\n",
              "    .dataframe thead th {\n",
              "        text-align: right;\n",
              "    }\n",
              "</style>\n",
              "<table border=\"1\" class=\"dataframe\">\n",
              "  <thead>\n",
              "    <tr style=\"text-align: right;\">\n",
              "      <th></th>\n",
              "      <th>AAPL</th>\n",
              "      <th>ABEV3.SA</th>\n",
              "      <th>GOOG</th>\n",
              "      <th>MSFT</th>\n",
              "      <th>PETR4.SA</th>\n",
              "      <th>TSLA</th>\n",
              "      <th>VALE3.SA</th>\n",
              "    </tr>\n",
              "    <tr>\n",
              "      <th>Date</th>\n",
              "      <th></th>\n",
              "      <th></th>\n",
              "      <th></th>\n",
              "      <th></th>\n",
              "      <th></th>\n",
              "      <th></th>\n",
              "      <th></th>\n",
              "    </tr>\n",
              "  </thead>\n",
              "  <tbody>\n",
              "    <tr>\n",
              "      <th>2021-06-25</th>\n",
              "      <td>133.110001</td>\n",
              "      <td>16.950001</td>\n",
              "      <td>2539.899902</td>\n",
              "      <td>265.019989</td>\n",
              "      <td>29.100000</td>\n",
              "      <td>671.869995</td>\n",
              "      <td>112.400002</td>\n",
              "    </tr>\n",
              "    <tr>\n",
              "      <th>2021-06-28</th>\n",
              "      <td>134.779999</td>\n",
              "      <td>17.500000</td>\n",
              "      <td>2536.389893</td>\n",
              "      <td>268.720001</td>\n",
              "      <td>29.049999</td>\n",
              "      <td>688.719971</td>\n",
              "      <td>110.599998</td>\n",
              "    </tr>\n",
              "    <tr>\n",
              "      <th>2021-06-29</th>\n",
              "      <td>136.330002</td>\n",
              "      <td>17.290001</td>\n",
              "      <td>2520.370117</td>\n",
              "      <td>271.399994</td>\n",
              "      <td>29.180000</td>\n",
              "      <td>680.760010</td>\n",
              "      <td>112.510002</td>\n",
              "    </tr>\n",
              "    <tr>\n",
              "      <th>2021-06-30</th>\n",
              "      <td>136.960007</td>\n",
              "      <td>17.070000</td>\n",
              "      <td>2506.320068</td>\n",
              "      <td>270.899994</td>\n",
              "      <td>29.430000</td>\n",
              "      <td>679.700012</td>\n",
              "      <td>113.250000</td>\n",
              "    </tr>\n",
              "    <tr>\n",
              "      <th>2021-07-01</th>\n",
              "      <td>137.270004</td>\n",
              "      <td>17.200001</td>\n",
              "      <td>2527.370117</td>\n",
              "      <td>271.600006</td>\n",
              "      <td>29.059999</td>\n",
              "      <td>677.919983</td>\n",
              "      <td>111.279999</td>\n",
              "    </tr>\n",
              "    <tr>\n",
              "      <th>2021-07-02</th>\n",
              "      <td>139.960007</td>\n",
              "      <td>17.430000</td>\n",
              "      <td>2574.379883</td>\n",
              "      <td>277.649994</td>\n",
              "      <td>29.180000</td>\n",
              "      <td>678.900024</td>\n",
              "      <td>113.580002</td>\n",
              "    </tr>\n",
              "  </tbody>\n",
              "</table>\n",
              "</div>"
            ],
            "text/plain": [
              "                  AAPL   ABEV3.SA  ...        TSLA    VALE3.SA\n",
              "Date                               ...                        \n",
              "2021-06-25  133.110001  16.950001  ...  671.869995  112.400002\n",
              "2021-06-28  134.779999  17.500000  ...  688.719971  110.599998\n",
              "2021-06-29  136.330002  17.290001  ...  680.760010  112.510002\n",
              "2021-06-30  136.960007  17.070000  ...  679.700012  113.250000\n",
              "2021-07-01  137.270004  17.200001  ...  677.919983  111.279999\n",
              "2021-07-02  139.960007  17.430000  ...  678.900024  113.580002\n",
              "\n",
              "[6 rows x 7 columns]"
            ]
          },
          "metadata": {
            "tags": []
          },
          "execution_count": 181
        }
      ]
    },
    {
      "cell_type": "markdown",
      "metadata": {
        "id": "vbS5ALMGqNwo"
      },
      "source": [
        "#3.0 Daily Returns"
      ]
    },
    {
      "cell_type": "code",
      "metadata": {
        "colab": {
          "base_uri": "https://localhost:8080/",
          "height": 628
        },
        "id": "_Tw4qeihqQDy",
        "outputId": "8f8a0ce8-20df-4367-9548-97d764e9c6d2"
      },
      "source": [
        "# viewing the Daily Returns of each stock\n",
        "df=df.pct_change()\n",
        "df=df.dropna()\n",
        "df"
      ],
      "execution_count": 182,
      "outputs": [
        {
          "output_type": "execute_result",
          "data": {
            "text/html": [
              "<div>\n",
              "<style scoped>\n",
              "    .dataframe tbody tr th:only-of-type {\n",
              "        vertical-align: middle;\n",
              "    }\n",
              "\n",
              "    .dataframe tbody tr th {\n",
              "        vertical-align: top;\n",
              "    }\n",
              "\n",
              "    .dataframe thead th {\n",
              "        text-align: right;\n",
              "    }\n",
              "</style>\n",
              "<table border=\"1\" class=\"dataframe\">\n",
              "  <thead>\n",
              "    <tr style=\"text-align: right;\">\n",
              "      <th></th>\n",
              "      <th>AAPL</th>\n",
              "      <th>ABEV3.SA</th>\n",
              "      <th>GOOG</th>\n",
              "      <th>MSFT</th>\n",
              "      <th>PETR4.SA</th>\n",
              "      <th>TSLA</th>\n",
              "      <th>VALE3.SA</th>\n",
              "    </tr>\n",
              "    <tr>\n",
              "      <th>Date</th>\n",
              "      <th></th>\n",
              "      <th></th>\n",
              "      <th></th>\n",
              "      <th></th>\n",
              "      <th></th>\n",
              "      <th></th>\n",
              "      <th></th>\n",
              "    </tr>\n",
              "  </thead>\n",
              "  <tbody>\n",
              "    <tr>\n",
              "      <th>2018-01-02</th>\n",
              "      <td>0.017905</td>\n",
              "      <td>0.019267</td>\n",
              "      <td>0.017775</td>\n",
              "      <td>0.004793</td>\n",
              "      <td>0.027950</td>\n",
              "      <td>0.029485</td>\n",
              "      <td>0.036264</td>\n",
              "    </tr>\n",
              "    <tr>\n",
              "      <th>2018-01-03</th>\n",
              "      <td>-0.000174</td>\n",
              "      <td>0.002305</td>\n",
              "      <td>0.016413</td>\n",
              "      <td>0.004654</td>\n",
              "      <td>0.009064</td>\n",
              "      <td>-0.010233</td>\n",
              "      <td>-0.005992</td>\n",
              "    </tr>\n",
              "    <tr>\n",
              "      <th>2018-01-04</th>\n",
              "      <td>0.004645</td>\n",
              "      <td>-0.005520</td>\n",
              "      <td>0.003621</td>\n",
              "      <td>0.008801</td>\n",
              "      <td>0.001796</td>\n",
              "      <td>-0.008290</td>\n",
              "      <td>0.004099</td>\n",
              "    </tr>\n",
              "    <tr>\n",
              "      <th>2018-01-05</th>\n",
              "      <td>0.011385</td>\n",
              "      <td>0.003700</td>\n",
              "      <td>0.014571</td>\n",
              "      <td>0.012398</td>\n",
              "      <td>0.005977</td>\n",
              "      <td>0.006230</td>\n",
              "      <td>0.015610</td>\n",
              "    </tr>\n",
              "    <tr>\n",
              "      <th>2018-01-08</th>\n",
              "      <td>-0.003714</td>\n",
              "      <td>-0.001843</td>\n",
              "      <td>0.004273</td>\n",
              "      <td>0.001020</td>\n",
              "      <td>0.011884</td>\n",
              "      <td>0.062638</td>\n",
              "      <td>0.022228</td>\n",
              "    </tr>\n",
              "    <tr>\n",
              "      <th>...</th>\n",
              "      <td>...</td>\n",
              "      <td>...</td>\n",
              "      <td>...</td>\n",
              "      <td>...</td>\n",
              "      <td>...</td>\n",
              "      <td>...</td>\n",
              "      <td>...</td>\n",
              "    </tr>\n",
              "    <tr>\n",
              "      <th>2021-06-28</th>\n",
              "      <td>0.012546</td>\n",
              "      <td>0.032448</td>\n",
              "      <td>-0.001382</td>\n",
              "      <td>0.013961</td>\n",
              "      <td>-0.001718</td>\n",
              "      <td>0.025079</td>\n",
              "      <td>-0.016014</td>\n",
              "    </tr>\n",
              "    <tr>\n",
              "      <th>2021-06-29</th>\n",
              "      <td>0.011500</td>\n",
              "      <td>-0.012000</td>\n",
              "      <td>-0.006316</td>\n",
              "      <td>0.009973</td>\n",
              "      <td>0.004475</td>\n",
              "      <td>-0.011558</td>\n",
              "      <td>0.017269</td>\n",
              "    </tr>\n",
              "    <tr>\n",
              "      <th>2021-06-30</th>\n",
              "      <td>0.004621</td>\n",
              "      <td>-0.012724</td>\n",
              "      <td>-0.005575</td>\n",
              "      <td>-0.001842</td>\n",
              "      <td>0.008568</td>\n",
              "      <td>-0.001557</td>\n",
              "      <td>0.006577</td>\n",
              "    </tr>\n",
              "    <tr>\n",
              "      <th>2021-07-01</th>\n",
              "      <td>0.002263</td>\n",
              "      <td>0.007616</td>\n",
              "      <td>0.008399</td>\n",
              "      <td>0.002584</td>\n",
              "      <td>-0.012572</td>\n",
              "      <td>-0.002619</td>\n",
              "      <td>-0.017395</td>\n",
              "    </tr>\n",
              "    <tr>\n",
              "      <th>2021-07-02</th>\n",
              "      <td>0.019596</td>\n",
              "      <td>0.013372</td>\n",
              "      <td>0.018600</td>\n",
              "      <td>0.022275</td>\n",
              "      <td>0.004129</td>\n",
              "      <td>0.001446</td>\n",
              "      <td>0.020669</td>\n",
              "    </tr>\n",
              "  </tbody>\n",
              "</table>\n",
              "<p>902 rows × 7 columns</p>\n",
              "</div>"
            ],
            "text/plain": [
              "                AAPL  ABEV3.SA      GOOG  ...  PETR4.SA      TSLA  VALE3.SA\n",
              "Date                                      ...                              \n",
              "2018-01-02  0.017905  0.019267  0.017775  ...  0.027950  0.029485  0.036264\n",
              "2018-01-03 -0.000174  0.002305  0.016413  ...  0.009064 -0.010233 -0.005992\n",
              "2018-01-04  0.004645 -0.005520  0.003621  ...  0.001796 -0.008290  0.004099\n",
              "2018-01-05  0.011385  0.003700  0.014571  ...  0.005977  0.006230  0.015610\n",
              "2018-01-08 -0.003714 -0.001843  0.004273  ...  0.011884  0.062638  0.022228\n",
              "...              ...       ...       ...  ...       ...       ...       ...\n",
              "2021-06-28  0.012546  0.032448 -0.001382  ... -0.001718  0.025079 -0.016014\n",
              "2021-06-29  0.011500 -0.012000 -0.006316  ...  0.004475 -0.011558  0.017269\n",
              "2021-06-30  0.004621 -0.012724 -0.005575  ...  0.008568 -0.001557  0.006577\n",
              "2021-07-01  0.002263  0.007616  0.008399  ... -0.012572 -0.002619 -0.017395\n",
              "2021-07-02  0.019596  0.013372  0.018600  ...  0.004129  0.001446  0.020669\n",
              "\n",
              "[902 rows x 7 columns]"
            ]
          },
          "metadata": {
            "tags": []
          },
          "execution_count": 182
        }
      ]
    },
    {
      "cell_type": "markdown",
      "metadata": {
        "id": "VdQ2yfOkrUdE"
      },
      "source": [
        "#4.0 RMS with Log Returns"
      ]
    },
    {
      "cell_type": "code",
      "metadata": {
        "colab": {
          "base_uri": "https://localhost:8080/",
          "height": 269
        },
        "id": "BZjqe6CirXJX",
        "outputId": "8166e76d-5d18-4b2f-8f54-a20f518779c1"
      },
      "source": [
        "# not necessary cell, just curiosity\n",
        "log_returns=(np.log(1+df))**2#LR Squared\n",
        "log_returns=(log_returns.mean()*(252/1)**0.5)# Anualized\n",
        "log_returns=log_returns.to_frame()\n",
        "log_returns=log_returns.rename(columns={0: 'RMS'})\n",
        "log_returns"
      ],
      "execution_count": 183,
      "outputs": [
        {
          "output_type": "execute_result",
          "data": {
            "text/html": [
              "<div>\n",
              "<style scoped>\n",
              "    .dataframe tbody tr th:only-of-type {\n",
              "        vertical-align: middle;\n",
              "    }\n",
              "\n",
              "    .dataframe tbody tr th {\n",
              "        vertical-align: top;\n",
              "    }\n",
              "\n",
              "    .dataframe thead th {\n",
              "        text-align: right;\n",
              "    }\n",
              "</style>\n",
              "<table border=\"1\" class=\"dataframe\">\n",
              "  <thead>\n",
              "    <tr style=\"text-align: right;\">\n",
              "      <th></th>\n",
              "      <th>RMS</th>\n",
              "    </tr>\n",
              "  </thead>\n",
              "  <tbody>\n",
              "    <tr>\n",
              "      <th>AAPL</th>\n",
              "      <td>0.007210</td>\n",
              "    </tr>\n",
              "    <tr>\n",
              "      <th>ABEV3.SA</th>\n",
              "      <td>0.006727</td>\n",
              "    </tr>\n",
              "    <tr>\n",
              "      <th>GOOG</th>\n",
              "      <td>0.005628</td>\n",
              "    </tr>\n",
              "    <tr>\n",
              "      <th>MSFT</th>\n",
              "      <td>0.005953</td>\n",
              "    </tr>\n",
              "    <tr>\n",
              "      <th>PETR4.SA</th>\n",
              "      <td>0.017444</td>\n",
              "    </tr>\n",
              "    <tr>\n",
              "      <th>TSLA</th>\n",
              "      <td>0.027685</td>\n",
              "    </tr>\n",
              "    <tr>\n",
              "      <th>VALE3.SA</th>\n",
              "      <td>0.011234</td>\n",
              "    </tr>\n",
              "  </tbody>\n",
              "</table>\n",
              "</div>"
            ],
            "text/plain": [
              "               RMS\n",
              "AAPL      0.007210\n",
              "ABEV3.SA  0.006727\n",
              "GOOG      0.005628\n",
              "MSFT      0.005953\n",
              "PETR4.SA  0.017444\n",
              "TSLA      0.027685\n",
              "VALE3.SA  0.011234"
            ]
          },
          "metadata": {
            "tags": []
          },
          "execution_count": 183
        }
      ]
    },
    {
      "cell_type": "markdown",
      "metadata": {
        "id": "Hu21cqYmxyFr"
      },
      "source": [
        "#5.0 Covariance Matrix"
      ]
    },
    {
      "cell_type": "code",
      "metadata": {
        "colab": {
          "base_uri": "https://localhost:8080/",
          "height": 269
        },
        "id": "mcKBUbb1yDTl",
        "outputId": "73f4391e-6f07-41b2-9748-386394e2b248"
      },
      "source": [
        "covariance=df.cov()*252#Anualized\n",
        "covariance"
      ],
      "execution_count": 184,
      "outputs": [
        {
          "output_type": "execute_result",
          "data": {
            "text/html": [
              "<div>\n",
              "<style scoped>\n",
              "    .dataframe tbody tr th:only-of-type {\n",
              "        vertical-align: middle;\n",
              "    }\n",
              "\n",
              "    .dataframe tbody tr th {\n",
              "        vertical-align: top;\n",
              "    }\n",
              "\n",
              "    .dataframe thead th {\n",
              "        text-align: right;\n",
              "    }\n",
              "</style>\n",
              "<table border=\"1\" class=\"dataframe\">\n",
              "  <thead>\n",
              "    <tr style=\"text-align: right;\">\n",
              "      <th></th>\n",
              "      <th>AAPL</th>\n",
              "      <th>ABEV3.SA</th>\n",
              "      <th>GOOG</th>\n",
              "      <th>MSFT</th>\n",
              "      <th>PETR4.SA</th>\n",
              "      <th>TSLA</th>\n",
              "      <th>VALE3.SA</th>\n",
              "    </tr>\n",
              "  </thead>\n",
              "  <tbody>\n",
              "    <tr>\n",
              "      <th>AAPL</th>\n",
              "      <td>0.113809</td>\n",
              "      <td>0.028106</td>\n",
              "      <td>0.068339</td>\n",
              "      <td>0.079125</td>\n",
              "      <td>0.059640</td>\n",
              "      <td>0.095802</td>\n",
              "      <td>0.061629</td>\n",
              "    </tr>\n",
              "    <tr>\n",
              "      <th>ABEV3.SA</th>\n",
              "      <td>0.028106</td>\n",
              "      <td>0.105463</td>\n",
              "      <td>0.027957</td>\n",
              "      <td>0.029951</td>\n",
              "      <td>0.071422</td>\n",
              "      <td>0.033672</td>\n",
              "      <td>0.038837</td>\n",
              "    </tr>\n",
              "    <tr>\n",
              "      <th>GOOG</th>\n",
              "      <td>0.068339</td>\n",
              "      <td>0.027957</td>\n",
              "      <td>0.089052</td>\n",
              "      <td>0.072203</td>\n",
              "      <td>0.057291</td>\n",
              "      <td>0.074917</td>\n",
              "      <td>0.055219</td>\n",
              "    </tr>\n",
              "    <tr>\n",
              "      <th>MSFT</th>\n",
              "      <td>0.079125</td>\n",
              "      <td>0.029951</td>\n",
              "      <td>0.072203</td>\n",
              "      <td>0.093955</td>\n",
              "      <td>0.059663</td>\n",
              "      <td>0.090578</td>\n",
              "      <td>0.059173</td>\n",
              "    </tr>\n",
              "    <tr>\n",
              "      <th>PETR4.SA</th>\n",
              "      <td>0.059640</td>\n",
              "      <td>0.071422</td>\n",
              "      <td>0.057291</td>\n",
              "      <td>0.059663</td>\n",
              "      <td>0.261417</td>\n",
              "      <td>0.090623</td>\n",
              "      <td>0.105600</td>\n",
              "    </tr>\n",
              "    <tr>\n",
              "      <th>TSLA</th>\n",
              "      <td>0.095802</td>\n",
              "      <td>0.033672</td>\n",
              "      <td>0.074917</td>\n",
              "      <td>0.090578</td>\n",
              "      <td>0.090623</td>\n",
              "      <td>0.441410</td>\n",
              "      <td>0.066934</td>\n",
              "    </tr>\n",
              "    <tr>\n",
              "      <th>VALE3.SA</th>\n",
              "      <td>0.061629</td>\n",
              "      <td>0.038837</td>\n",
              "      <td>0.055219</td>\n",
              "      <td>0.059173</td>\n",
              "      <td>0.105600</td>\n",
              "      <td>0.066934</td>\n",
              "      <td>0.175092</td>\n",
              "    </tr>\n",
              "  </tbody>\n",
              "</table>\n",
              "</div>"
            ],
            "text/plain": [
              "              AAPL  ABEV3.SA      GOOG      MSFT  PETR4.SA      TSLA  VALE3.SA\n",
              "AAPL      0.113809  0.028106  0.068339  0.079125  0.059640  0.095802  0.061629\n",
              "ABEV3.SA  0.028106  0.105463  0.027957  0.029951  0.071422  0.033672  0.038837\n",
              "GOOG      0.068339  0.027957  0.089052  0.072203  0.057291  0.074917  0.055219\n",
              "MSFT      0.079125  0.029951  0.072203  0.093955  0.059663  0.090578  0.059173\n",
              "PETR4.SA  0.059640  0.071422  0.057291  0.059663  0.261417  0.090623  0.105600\n",
              "TSLA      0.095802  0.033672  0.074917  0.090578  0.090623  0.441410  0.066934\n",
              "VALE3.SA  0.061629  0.038837  0.055219  0.059173  0.105600  0.066934  0.175092"
            ]
          },
          "metadata": {
            "tags": []
          },
          "execution_count": 184
        }
      ]
    },
    {
      "cell_type": "markdown",
      "metadata": {
        "id": "46Tdk2ST2J-u"
      },
      "source": [
        "#6.0 Correlation Heatmap"
      ]
    },
    {
      "cell_type": "code",
      "metadata": {
        "colab": {
          "base_uri": "https://localhost:8080/",
          "height": 327
        },
        "id": "0R1-v92s1Fy-",
        "outputId": "188479de-8289-4dbb-93c9-71cfd96931d3"
      },
      "source": [
        "variance=df.var()*252#Anualized\n",
        "variance=variance.to_frame()\n",
        "variance=variance.rename(columns={0:\"Variance\"})\n",
        "volatility=np.sqrt(variance)\n",
        "volatility=volatility.rename(columns={\"Variance\": \"Volatility\"})\n",
        "correlation=df.corr()\n",
        "sns.heatmap(correlation)"
      ],
      "execution_count": 185,
      "outputs": [
        {
          "output_type": "execute_result",
          "data": {
            "text/plain": [
              "<matplotlib.axes._subplots.AxesSubplot at 0x7f907b5086d0>"
            ]
          },
          "metadata": {
            "tags": []
          },
          "execution_count": 185
        },
        {
          "output_type": "display_data",
          "data": {
            "image/png": "[encoded data removed]",
            "text/plain": [
              "<Figure size 432x288 with 2 Axes>"
            ]
          },
          "metadata": {
            "tags": [],
            "needs_background": "light"
          }
        }
      ]
    },
    {
      "cell_type": "markdown",
      "metadata": {
        "id": "C_remmAW4Qld"
      },
      "source": [
        "# 7.0 Portfolio Volatility"
      ]
    },
    {
      "cell_type": "code",
      "metadata": {
        "colab": {
          "base_uri": "https://localhost:8080/"
        },
        "id": "qnrXyPse3HzQ",
        "outputId": "c074a938-f015-4c04-8ec6-b23ff1d211c8"
      },
      "source": [
        "portfolio_vol=np.sqrt(weights.T.dot(covariance).dot(weights))\n",
        "portfolio_vol\n",
        "expected_return=np.sum(df.mean()*weights)*252\n",
        "expected_return"
      ],
      "execution_count": 186,
      "outputs": [
        {
          "output_type": "execute_result",
          "data": {
            "text/plain": [
              "0.3965279486478154"
            ]
          },
          "metadata": {
            "tags": []
          },
          "execution_count": 186
        }
      ]
    },
    {
      "cell_type": "markdown",
      "metadata": {
        "id": "9GLp7JLc4zOC"
      },
      "source": [
        "# 8.0 Set the Risk Free Rate"
      ]
    },
    {
      "cell_type": "code",
      "metadata": {
        "id": "sXcQ7xfI43j-"
      },
      "source": [
        "r=0.045"
      ],
      "execution_count": 187,
      "outputs": []
    },
    {
      "cell_type": "markdown",
      "metadata": {
        "id": "o-JgGXIK5jZP"
      },
      "source": [
        "# 9.0 More Risk Stocks"
      ]
    },
    {
      "cell_type": "code",
      "metadata": {
        "colab": {
          "base_uri": "https://localhost:8080/",
          "height": 283
        },
        "id": "OYanA4Sp5vNI",
        "outputId": "7dca1822-d450-4e48-9e5f-3a2fedfbfd4f"
      },
      "source": [
        "sns.heatmap(variance)"
      ],
      "execution_count": 188,
      "outputs": [
        {
          "output_type": "execute_result",
          "data": {
            "text/plain": [
              "<matplotlib.axes._subplots.AxesSubplot at 0x7f907b450f50>"
            ]
          },
          "metadata": {
            "tags": []
          },
          "execution_count": 188
        },
        {
          "output_type": "display_data",
          "data": {
            "image/png": "[encoded data removed]",
            "text/plain": [
              "<Figure size 432x288 with 2 Axes>"
            ]
          },
          "metadata": {
            "tags": [],
            "needs_background": "light"
          }
        }
      ]
    },
    {
      "cell_type": "markdown",
      "metadata": {
        "id": "S1ImUdSq61E2"
      },
      "source": [
        "#10.0 Individual Stocks Returns"
      ]
    },
    {
      "cell_type": "code",
      "metadata": {
        "colab": {
          "base_uri": "https://localhost:8080/",
          "height": 269
        },
        "id": "E2RFVdJ2671T",
        "outputId": "c83e7368-b636-48cc-e97f-01906962b219"
      },
      "source": [
        "individual_returns_anualized=df.mean()*252\n",
        "individual_returns_anualized=individual_returns_anualized.to_frame()\n",
        "individual_returns_anualized.rename(columns={0:\"Anual Returns %\"})"
      ],
      "execution_count": 189,
      "outputs": [
        {
          "output_type": "execute_result",
          "data": {
            "text/html": [
              "<div>\n",
              "<style scoped>\n",
              "    .dataframe tbody tr th:only-of-type {\n",
              "        vertical-align: middle;\n",
              "    }\n",
              "\n",
              "    .dataframe tbody tr th {\n",
              "        vertical-align: top;\n",
              "    }\n",
              "\n",
              "    .dataframe thead th {\n",
              "        text-align: right;\n",
              "    }\n",
              "</style>\n",
              "<table border=\"1\" class=\"dataframe\">\n",
              "  <thead>\n",
              "    <tr style=\"text-align: right;\">\n",
              "      <th></th>\n",
              "      <th>Anual Returns %</th>\n",
              "    </tr>\n",
              "  </thead>\n",
              "  <tbody>\n",
              "    <tr>\n",
              "      <th>AAPL</th>\n",
              "      <td>0.403053</td>\n",
              "    </tr>\n",
              "    <tr>\n",
              "      <th>ABEV3.SA</th>\n",
              "      <td>0.022204</td>\n",
              "    </tr>\n",
              "    <tr>\n",
              "      <th>GOOG</th>\n",
              "      <td>0.296164</td>\n",
              "    </tr>\n",
              "    <tr>\n",
              "      <th>MSFT</th>\n",
              "      <td>0.389281</td>\n",
              "    </tr>\n",
              "    <tr>\n",
              "      <th>PETR4.SA</th>\n",
              "      <td>0.331867</td>\n",
              "    </tr>\n",
              "    <tr>\n",
              "      <th>TSLA</th>\n",
              "      <td>0.887617</td>\n",
              "    </tr>\n",
              "    <tr>\n",
              "      <th>VALE3.SA</th>\n",
              "      <td>0.425934</td>\n",
              "    </tr>\n",
              "  </tbody>\n",
              "</table>\n",
              "</div>"
            ],
            "text/plain": [
              "          Anual Returns %\n",
              "AAPL             0.403053\n",
              "ABEV3.SA         0.022204\n",
              "GOOG             0.296164\n",
              "MSFT             0.389281\n",
              "PETR4.SA         0.331867\n",
              "TSLA             0.887617\n",
              "VALE3.SA         0.425934"
            ]
          },
          "metadata": {
            "tags": []
          },
          "execution_count": 189
        }
      ]
    },
    {
      "cell_type": "markdown",
      "metadata": {
        "id": "GDQrMyek486X"
      },
      "source": [
        "# 11.0 Calculating Sharpe Index"
      ]
    },
    {
      "cell_type": "code",
      "metadata": {
        "colab": {
          "base_uri": "https://localhost:8080/"
        },
        "id": "sywGgDRx5A4N",
        "outputId": "10e19c56-109b-470d-beb4-822103822972"
      },
      "source": [
        "sharpe=(expected_return-r)/portfolio_vol\n",
        "print(f\"Sharpe Index: {sharpe.round(2)}\")"
      ],
      "execution_count": 190,
      "outputs": [
        {
          "output_type": "stream",
          "text": [
            "Sharpe Index: 1.24\n"
          ],
          "name": "stdout"
        }
      ]
    }
  ]
}